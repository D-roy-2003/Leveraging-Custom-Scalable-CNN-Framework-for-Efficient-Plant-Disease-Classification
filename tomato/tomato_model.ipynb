{
 "cells": [
  {
   "cell_type": "code",
   "execution_count": 3,
   "id": "ced84766-3833-497c-a7b4-e6c82a10159c",
   "metadata": {
    "execution": {
     "iopub.execute_input": "2024-12-18T15:41:05.797055Z",
     "iopub.status.busy": "2024-12-18T15:41:05.796716Z",
     "iopub.status.idle": "2024-12-18T15:41:05.801779Z",
     "shell.execute_reply": "2024-12-18T15:41:05.800833Z",
     "shell.execute_reply.started": "2024-12-18T15:41:05.797026Z"
    },
    "trusted": true
   },
   "outputs": [
    {
     "name": "stdout",
     "output_type": "stream",
     "text": [
      "/opt/conda/bin/python3.10\n"
     ]
    }
   ],
   "source": [
    "import sys\n",
    "print(sys.executable)"
   ]
  },
  {
   "cell_type": "code",
   "execution_count": 4,
   "id": "b2fb0a70-8dbe-4584-ba39-4225b4c8e9ce",
   "metadata": {
    "execution": {
     "iopub.execute_input": "2024-12-18T15:41:09.578247Z",
     "iopub.status.busy": "2024-12-18T15:41:09.577358Z",
     "iopub.status.idle": "2024-12-18T15:41:28.543105Z",
     "shell.execute_reply": "2024-12-18T15:41:28.542393Z",
     "shell.execute_reply.started": "2024-12-18T15:41:09.578198Z"
    },
    "trusted": true
   },
   "outputs": [],
   "source": [
    "import numpy as np\n",
    "import os\n",
    "from tensorflow.keras import models, layers\n",
    "from tensorflow.keras.preprocessing.image import ImageDataGenerator\n",
    "from tensorflow.keras.preprocessing import image\n",
    "from tensorflow.keras.preprocessing.image import img_to_array\n",
    "import tensorflow as tf\n",
    "import matplotlib.pyplot as plt\n",
    "from tensorflow.keras import backend as K\n",
    "from tensorflow.keras.callbacks import EarlyStopping\n"
   ]
  },
  {
   "cell_type": "code",
   "execution_count": 5,
   "id": "6cd432a6-8460-467e-bbbb-1f05549b3c58",
   "metadata": {
    "execution": {
     "iopub.execute_input": "2024-12-18T15:41:31.428368Z",
     "iopub.status.busy": "2024-12-18T15:41:31.427653Z",
     "iopub.status.idle": "2024-12-18T15:41:31.432980Z",
     "shell.execute_reply": "2024-12-18T15:41:31.432177Z",
     "shell.execute_reply.started": "2024-12-18T15:41:31.428329Z"
    },
    "trusted": true
   },
   "outputs": [
    {
     "name": "stdout",
     "output_type": "stream",
     "text": [
      "3.10.14 | packaged by conda-forge | (main, Mar 20 2024, 12:45:18) [GCC 12.3.0]\n",
      "/opt/conda/bin/python3.10\n"
     ]
    }
   ],
   "source": [
    "import sys\n",
    "print(sys.version)\n",
    "print(sys.executable)\n"
   ]
  },
  {
   "cell_type": "code",
   "execution_count": 6,
   "id": "65767639-5bd9-4b77-bd74-3e71fb00a2f1",
   "metadata": {
    "execution": {
     "iopub.execute_input": "2024-12-18T15:41:37.122308Z",
     "iopub.status.busy": "2024-12-18T15:41:37.121916Z",
     "iopub.status.idle": "2024-12-18T15:41:37.126294Z",
     "shell.execute_reply": "2024-12-18T15:41:37.125460Z",
     "shell.execute_reply.started": "2024-12-18T15:41:37.122263Z"
    },
    "trusted": true
   },
   "outputs": [],
   "source": [
    "# -------------------- Dataset Loading --------------------\n",
    "train_path = \"/kaggle/input/tomatoleaf/tomato/train\"\n",
    "valid_path = \"/kaggle/input/tomatoleaf/tomato/val\""
   ]
  },
  {
   "cell_type": "code",
   "execution_count": 7,
   "id": "e7d92f33-a8ba-46fb-8c50-8f0acda571d5",
   "metadata": {
    "execution": {
     "iopub.execute_input": "2024-12-18T15:41:41.570430Z",
     "iopub.status.busy": "2024-12-18T15:41:41.569787Z",
     "iopub.status.idle": "2024-12-18T15:41:41.574252Z",
     "shell.execute_reply": "2024-12-18T15:41:41.573377Z",
     "shell.execute_reply.started": "2024-12-18T15:41:41.570388Z"
    },
    "trusted": true
   },
   "outputs": [],
   "source": [
    "sys.setrecursionlimit(10000)  # Increase the recursion limit\n"
   ]
  },
  {
   "cell_type": "code",
   "execution_count": 24,
   "id": "bb6f888e-3c87-4e96-a6bb-e654592c50d3",
   "metadata": {
    "execution": {
     "iopub.execute_input": "2024-12-18T16:40:19.992600Z",
     "iopub.status.busy": "2024-12-18T16:40:19.991813Z",
     "iopub.status.idle": "2024-12-18T16:40:23.826378Z",
     "shell.execute_reply": "2024-12-18T16:40:23.825742Z",
     "shell.execute_reply.started": "2024-12-18T16:40:19.992565Z"
    },
    "trusted": true
   },
   "outputs": [
    {
     "name": "stdout",
     "output_type": "stream",
     "text": [
      "Found 10000 files belonging to 10 classes.\n"
     ]
    }
   ],
   "source": [
    "training_set = tf.keras.preprocessing.image_dataset_from_directory(\n",
    "    '/kaggle/input/tomatoleaf/tomato/train',\n",
    "    labels=\"inferred\",\n",
    "    label_mode=\"categorical\",\n",
    "    class_names=None,\n",
    "    color_mode=\"rgb\",\n",
    "    batch_size=32,\n",
    "    image_size=(128, 128),\n",
    "    shuffle=True,\n",
    "    seed=None,\n",
    "    validation_split=None,\n",
    "    subset=None,\n",
    "    interpolation=\"bilinear\",\n",
    "    follow_links=False,\n",
    "    crop_to_aspect_ratio=False\n",
    ")"
   ]
  },
  {
   "cell_type": "code",
   "execution_count": 25,
   "id": "8ab70064-f878-4a1f-b42f-0028938662a0",
   "metadata": {
    "execution": {
     "iopub.execute_input": "2024-12-18T16:40:25.768167Z",
     "iopub.status.busy": "2024-12-18T16:40:25.767490Z",
     "iopub.status.idle": "2024-12-18T16:40:26.201555Z",
     "shell.execute_reply": "2024-12-18T16:40:26.200807Z",
     "shell.execute_reply.started": "2024-12-18T16:40:25.768133Z"
    },
    "trusted": true
   },
   "outputs": [
    {
     "name": "stdout",
     "output_type": "stream",
     "text": [
      "Found 1000 files belonging to 10 classes.\n"
     ]
    }
   ],
   "source": [
    "validation_set = tf.keras.utils.image_dataset_from_directory(\n",
    "    '/kaggle/input/tomatoleaf/tomato/val',\n",
    "    labels=\"inferred\",\n",
    "    label_mode=\"categorical\",\n",
    "    class_names=None,\n",
    "    color_mode=\"rgb\",\n",
    "    batch_size=32,\n",
    "    image_size=(128, 128),\n",
    "    shuffle=True,\n",
    "    seed=None,\n",
    "    validation_split=None,\n",
    "    subset=None,\n",
    "    interpolation=\"bilinear\",\n",
    "    follow_links=False,\n",
    "    crop_to_aspect_ratio=False\n",
    ")"
   ]
  },
  {
   "cell_type": "code",
   "execution_count": 26,
   "id": "8eafab01-7477-416f-b54f-fd57cd125ba8",
   "metadata": {
    "execution": {
     "iopub.execute_input": "2024-12-18T16:40:30.840204Z",
     "iopub.status.busy": "2024-12-18T16:40:30.839514Z",
     "iopub.status.idle": "2024-12-18T16:40:30.844014Z",
     "shell.execute_reply": "2024-12-18T16:40:30.843145Z",
     "shell.execute_reply.started": "2024-12-18T16:40:30.840169Z"
    },
    "trusted": true
   },
   "outputs": [],
   "source": [
    "from tensorflow.keras.layers import Dense,Conv2D,MaxPool2D,Dropout\n",
    "from tensorflow.keras.models import Sequential"
   ]
  },
  {
   "cell_type": "code",
   "execution_count": 27,
   "id": "d9db087a-a685-44fd-833e-3cb4b0815641",
   "metadata": {
    "execution": {
     "iopub.execute_input": "2024-12-18T16:40:33.480513Z",
     "iopub.status.busy": "2024-12-18T16:40:33.479688Z",
     "iopub.status.idle": "2024-12-18T16:40:33.676484Z",
     "shell.execute_reply": "2024-12-18T16:40:33.675574Z",
     "shell.execute_reply.started": "2024-12-18T16:40:33.480478Z"
    },
    "trusted": true
   },
   "outputs": [],
   "source": [
    "cnn = tf.keras.models.Sequential()\n",
    "\n",
    "cnn.add(tf.keras.layers.Conv2D(filters=32,kernel_size=3,padding='same',activation='relu',input_shape=[128,128,3]))\n",
    "cnn.add(tf.keras.layers.Conv2D(filters=32,kernel_size=3,activation='relu'))\n",
    "cnn.add(tf.keras.layers.MaxPool2D(pool_size=2,strides=2))\n",
    "\n",
    "cnn.add(tf.keras.layers.Conv2D(filters=64,kernel_size=3,padding='same',activation='relu'))\n",
    "cnn.add(tf.keras.layers.Conv2D(filters=64,kernel_size=3,activation='relu'))\n",
    "cnn.add(tf.keras.layers.MaxPool2D(pool_size=2,strides=2))\n",
    "\n",
    "cnn.add(tf.keras.layers.Conv2D(filters=128,kernel_size=3,padding='same',activation='relu'))\n",
    "cnn.add(tf.keras.layers.Conv2D(filters=128,kernel_size=3,activation='relu'))\n",
    "cnn.add(tf.keras.layers.MaxPool2D(pool_size=2,strides=2))\n",
    "\n",
    "cnn.add(tf.keras.layers.Conv2D(filters=256,kernel_size=3,padding='same',activation='relu'))\n",
    "cnn.add(tf.keras.layers.Conv2D(filters=256,kernel_size=3,activation='relu'))\n",
    "cnn.add(tf.keras.layers.MaxPool2D(pool_size=2,strides=2))\n",
    "\n",
    "cnn.add(tf.keras.layers.Conv2D(filters=512,kernel_size=3,padding='same',activation='relu'))\n",
    "cnn.add(tf.keras.layers.Conv2D(filters=512,kernel_size=3,activation='relu'))\n",
    "cnn.add(tf.keras.layers.MaxPool2D(pool_size=2,strides=2))\n",
    "\n",
    "cnn.add(tf.keras.layers.Dropout(0.25))\n",
    "\n",
    "cnn.add(tf.keras.layers.Flatten())\n",
    "\n",
    "cnn.add(tf.keras.layers.Dense(units=1500,activation='relu'))\n",
    "\n",
    "cnn.add(tf.keras.layers.Dropout(0.4)) #To avoid overfitting\n",
    "\n",
    "\n",
    "#Output Layer\n",
    "cnn.add(tf.keras.layers.Dense(units=10,activation='softmax'))\n",
    "\n"
   ]
  },
  {
   "cell_type": "code",
   "execution_count": 28,
   "id": "cb9cac9f-3239-409b-91ed-fccf8c57faa3",
   "metadata": {
    "execution": {
     "iopub.execute_input": "2024-12-18T16:40:37.197376Z",
     "iopub.status.busy": "2024-12-18T16:40:37.196338Z",
     "iopub.status.idle": "2024-12-18T16:40:37.207895Z",
     "shell.execute_reply": "2024-12-18T16:40:37.206690Z",
     "shell.execute_reply.started": "2024-12-18T16:40:37.197316Z"
    },
    "trusted": true
   },
   "outputs": [],
   "source": [
    "cnn.compile(optimizer=tf.keras.optimizers.Adam(learning_rate=0.0001),\n",
    "            loss='categorical_crossentropy',\n",
    "            metrics=['accuracy'])"
   ]
  },
  {
   "cell_type": "code",
   "execution_count": 29,
   "id": "cd731231-c5b7-413f-99d1-1f7c55edc091",
   "metadata": {
    "execution": {
     "iopub.execute_input": "2024-12-18T16:40:40.199553Z",
     "iopub.status.busy": "2024-12-18T16:40:40.198837Z",
     "iopub.status.idle": "2024-12-18T16:40:40.227311Z",
     "shell.execute_reply": "2024-12-18T16:40:40.226482Z",
     "shell.execute_reply.started": "2024-12-18T16:40:40.199506Z"
    },
    "trusted": true
   },
   "outputs": [
    {
     "data": {
      "text/html": [
       "<pre style=\"white-space:pre;overflow-x:auto;line-height:normal;font-family:Menlo,'DejaVu Sans Mono',consolas,'Courier New',monospace\"><span style=\"font-weight: bold\">Model: \"sequential_2\"</span>\n",
       "</pre>\n"
      ],
      "text/plain": [
       "\u001b[1mModel: \"sequential_2\"\u001b[0m\n"
      ]
     },
     "metadata": {},
     "output_type": "display_data"
    },
    {
     "data": {
      "text/html": [
       "<pre style=\"white-space:pre;overflow-x:auto;line-height:normal;font-family:Menlo,'DejaVu Sans Mono',consolas,'Courier New',monospace\">┏━━━━━━━━━━━━━━━━━━━━━━━━━━━━━━━━━┳━━━━━━━━━━━━━━━━━━━━━━━━┳━━━━━━━━━━━━━━━┓\n",
       "┃<span style=\"font-weight: bold\"> Layer (type)                    </span>┃<span style=\"font-weight: bold\"> Output Shape           </span>┃<span style=\"font-weight: bold\">       Param # </span>┃\n",
       "┡━━━━━━━━━━━━━━━━━━━━━━━━━━━━━━━━━╇━━━━━━━━━━━━━━━━━━━━━━━━╇━━━━━━━━━━━━━━━┩\n",
       "│ conv2d_20 (<span style=\"color: #0087ff; text-decoration-color: #0087ff\">Conv2D</span>)              │ (<span style=\"color: #00d7ff; text-decoration-color: #00d7ff\">None</span>, <span style=\"color: #00af00; text-decoration-color: #00af00\">128</span>, <span style=\"color: #00af00; text-decoration-color: #00af00\">128</span>, <span style=\"color: #00af00; text-decoration-color: #00af00\">32</span>)   │           <span style=\"color: #00af00; text-decoration-color: #00af00\">896</span> │\n",
       "├─────────────────────────────────┼────────────────────────┼───────────────┤\n",
       "│ conv2d_21 (<span style=\"color: #0087ff; text-decoration-color: #0087ff\">Conv2D</span>)              │ (<span style=\"color: #00d7ff; text-decoration-color: #00d7ff\">None</span>, <span style=\"color: #00af00; text-decoration-color: #00af00\">126</span>, <span style=\"color: #00af00; text-decoration-color: #00af00\">126</span>, <span style=\"color: #00af00; text-decoration-color: #00af00\">32</span>)   │         <span style=\"color: #00af00; text-decoration-color: #00af00\">9,248</span> │\n",
       "├─────────────────────────────────┼────────────────────────┼───────────────┤\n",
       "│ max_pooling2d_10 (<span style=\"color: #0087ff; text-decoration-color: #0087ff\">MaxPooling2D</span>) │ (<span style=\"color: #00d7ff; text-decoration-color: #00d7ff\">None</span>, <span style=\"color: #00af00; text-decoration-color: #00af00\">63</span>, <span style=\"color: #00af00; text-decoration-color: #00af00\">63</span>, <span style=\"color: #00af00; text-decoration-color: #00af00\">32</span>)     │             <span style=\"color: #00af00; text-decoration-color: #00af00\">0</span> │\n",
       "├─────────────────────────────────┼────────────────────────┼───────────────┤\n",
       "│ conv2d_22 (<span style=\"color: #0087ff; text-decoration-color: #0087ff\">Conv2D</span>)              │ (<span style=\"color: #00d7ff; text-decoration-color: #00d7ff\">None</span>, <span style=\"color: #00af00; text-decoration-color: #00af00\">63</span>, <span style=\"color: #00af00; text-decoration-color: #00af00\">63</span>, <span style=\"color: #00af00; text-decoration-color: #00af00\">64</span>)     │        <span style=\"color: #00af00; text-decoration-color: #00af00\">18,496</span> │\n",
       "├─────────────────────────────────┼────────────────────────┼───────────────┤\n",
       "│ conv2d_23 (<span style=\"color: #0087ff; text-decoration-color: #0087ff\">Conv2D</span>)              │ (<span style=\"color: #00d7ff; text-decoration-color: #00d7ff\">None</span>, <span style=\"color: #00af00; text-decoration-color: #00af00\">61</span>, <span style=\"color: #00af00; text-decoration-color: #00af00\">61</span>, <span style=\"color: #00af00; text-decoration-color: #00af00\">64</span>)     │        <span style=\"color: #00af00; text-decoration-color: #00af00\">36,928</span> │\n",
       "├─────────────────────────────────┼────────────────────────┼───────────────┤\n",
       "│ max_pooling2d_11 (<span style=\"color: #0087ff; text-decoration-color: #0087ff\">MaxPooling2D</span>) │ (<span style=\"color: #00d7ff; text-decoration-color: #00d7ff\">None</span>, <span style=\"color: #00af00; text-decoration-color: #00af00\">30</span>, <span style=\"color: #00af00; text-decoration-color: #00af00\">30</span>, <span style=\"color: #00af00; text-decoration-color: #00af00\">64</span>)     │             <span style=\"color: #00af00; text-decoration-color: #00af00\">0</span> │\n",
       "├─────────────────────────────────┼────────────────────────┼───────────────┤\n",
       "│ conv2d_24 (<span style=\"color: #0087ff; text-decoration-color: #0087ff\">Conv2D</span>)              │ (<span style=\"color: #00d7ff; text-decoration-color: #00d7ff\">None</span>, <span style=\"color: #00af00; text-decoration-color: #00af00\">30</span>, <span style=\"color: #00af00; text-decoration-color: #00af00\">30</span>, <span style=\"color: #00af00; text-decoration-color: #00af00\">128</span>)    │        <span style=\"color: #00af00; text-decoration-color: #00af00\">73,856</span> │\n",
       "├─────────────────────────────────┼────────────────────────┼───────────────┤\n",
       "│ conv2d_25 (<span style=\"color: #0087ff; text-decoration-color: #0087ff\">Conv2D</span>)              │ (<span style=\"color: #00d7ff; text-decoration-color: #00d7ff\">None</span>, <span style=\"color: #00af00; text-decoration-color: #00af00\">28</span>, <span style=\"color: #00af00; text-decoration-color: #00af00\">28</span>, <span style=\"color: #00af00; text-decoration-color: #00af00\">128</span>)    │       <span style=\"color: #00af00; text-decoration-color: #00af00\">147,584</span> │\n",
       "├─────────────────────────────────┼────────────────────────┼───────────────┤\n",
       "│ max_pooling2d_12 (<span style=\"color: #0087ff; text-decoration-color: #0087ff\">MaxPooling2D</span>) │ (<span style=\"color: #00d7ff; text-decoration-color: #00d7ff\">None</span>, <span style=\"color: #00af00; text-decoration-color: #00af00\">14</span>, <span style=\"color: #00af00; text-decoration-color: #00af00\">14</span>, <span style=\"color: #00af00; text-decoration-color: #00af00\">128</span>)    │             <span style=\"color: #00af00; text-decoration-color: #00af00\">0</span> │\n",
       "├─────────────────────────────────┼────────────────────────┼───────────────┤\n",
       "│ conv2d_26 (<span style=\"color: #0087ff; text-decoration-color: #0087ff\">Conv2D</span>)              │ (<span style=\"color: #00d7ff; text-decoration-color: #00d7ff\">None</span>, <span style=\"color: #00af00; text-decoration-color: #00af00\">14</span>, <span style=\"color: #00af00; text-decoration-color: #00af00\">14</span>, <span style=\"color: #00af00; text-decoration-color: #00af00\">256</span>)    │       <span style=\"color: #00af00; text-decoration-color: #00af00\">295,168</span> │\n",
       "├─────────────────────────────────┼────────────────────────┼───────────────┤\n",
       "│ conv2d_27 (<span style=\"color: #0087ff; text-decoration-color: #0087ff\">Conv2D</span>)              │ (<span style=\"color: #00d7ff; text-decoration-color: #00d7ff\">None</span>, <span style=\"color: #00af00; text-decoration-color: #00af00\">12</span>, <span style=\"color: #00af00; text-decoration-color: #00af00\">12</span>, <span style=\"color: #00af00; text-decoration-color: #00af00\">256</span>)    │       <span style=\"color: #00af00; text-decoration-color: #00af00\">590,080</span> │\n",
       "├─────────────────────────────────┼────────────────────────┼───────────────┤\n",
       "│ max_pooling2d_13 (<span style=\"color: #0087ff; text-decoration-color: #0087ff\">MaxPooling2D</span>) │ (<span style=\"color: #00d7ff; text-decoration-color: #00d7ff\">None</span>, <span style=\"color: #00af00; text-decoration-color: #00af00\">6</span>, <span style=\"color: #00af00; text-decoration-color: #00af00\">6</span>, <span style=\"color: #00af00; text-decoration-color: #00af00\">256</span>)      │             <span style=\"color: #00af00; text-decoration-color: #00af00\">0</span> │\n",
       "├─────────────────────────────────┼────────────────────────┼───────────────┤\n",
       "│ conv2d_28 (<span style=\"color: #0087ff; text-decoration-color: #0087ff\">Conv2D</span>)              │ (<span style=\"color: #00d7ff; text-decoration-color: #00d7ff\">None</span>, <span style=\"color: #00af00; text-decoration-color: #00af00\">6</span>, <span style=\"color: #00af00; text-decoration-color: #00af00\">6</span>, <span style=\"color: #00af00; text-decoration-color: #00af00\">512</span>)      │     <span style=\"color: #00af00; text-decoration-color: #00af00\">1,180,160</span> │\n",
       "├─────────────────────────────────┼────────────────────────┼───────────────┤\n",
       "│ conv2d_29 (<span style=\"color: #0087ff; text-decoration-color: #0087ff\">Conv2D</span>)              │ (<span style=\"color: #00d7ff; text-decoration-color: #00d7ff\">None</span>, <span style=\"color: #00af00; text-decoration-color: #00af00\">4</span>, <span style=\"color: #00af00; text-decoration-color: #00af00\">4</span>, <span style=\"color: #00af00; text-decoration-color: #00af00\">512</span>)      │     <span style=\"color: #00af00; text-decoration-color: #00af00\">2,359,808</span> │\n",
       "├─────────────────────────────────┼────────────────────────┼───────────────┤\n",
       "│ max_pooling2d_14 (<span style=\"color: #0087ff; text-decoration-color: #0087ff\">MaxPooling2D</span>) │ (<span style=\"color: #00d7ff; text-decoration-color: #00d7ff\">None</span>, <span style=\"color: #00af00; text-decoration-color: #00af00\">2</span>, <span style=\"color: #00af00; text-decoration-color: #00af00\">2</span>, <span style=\"color: #00af00; text-decoration-color: #00af00\">512</span>)      │             <span style=\"color: #00af00; text-decoration-color: #00af00\">0</span> │\n",
       "├─────────────────────────────────┼────────────────────────┼───────────────┤\n",
       "│ dropout_4 (<span style=\"color: #0087ff; text-decoration-color: #0087ff\">Dropout</span>)             │ (<span style=\"color: #00d7ff; text-decoration-color: #00d7ff\">None</span>, <span style=\"color: #00af00; text-decoration-color: #00af00\">2</span>, <span style=\"color: #00af00; text-decoration-color: #00af00\">2</span>, <span style=\"color: #00af00; text-decoration-color: #00af00\">512</span>)      │             <span style=\"color: #00af00; text-decoration-color: #00af00\">0</span> │\n",
       "├─────────────────────────────────┼────────────────────────┼───────────────┤\n",
       "│ flatten_2 (<span style=\"color: #0087ff; text-decoration-color: #0087ff\">Flatten</span>)             │ (<span style=\"color: #00d7ff; text-decoration-color: #00d7ff\">None</span>, <span style=\"color: #00af00; text-decoration-color: #00af00\">2048</span>)           │             <span style=\"color: #00af00; text-decoration-color: #00af00\">0</span> │\n",
       "├─────────────────────────────────┼────────────────────────┼───────────────┤\n",
       "│ dense_4 (<span style=\"color: #0087ff; text-decoration-color: #0087ff\">Dense</span>)                 │ (<span style=\"color: #00d7ff; text-decoration-color: #00d7ff\">None</span>, <span style=\"color: #00af00; text-decoration-color: #00af00\">1500</span>)           │     <span style=\"color: #00af00; text-decoration-color: #00af00\">3,073,500</span> │\n",
       "├─────────────────────────────────┼────────────────────────┼───────────────┤\n",
       "│ dropout_5 (<span style=\"color: #0087ff; text-decoration-color: #0087ff\">Dropout</span>)             │ (<span style=\"color: #00d7ff; text-decoration-color: #00d7ff\">None</span>, <span style=\"color: #00af00; text-decoration-color: #00af00\">1500</span>)           │             <span style=\"color: #00af00; text-decoration-color: #00af00\">0</span> │\n",
       "├─────────────────────────────────┼────────────────────────┼───────────────┤\n",
       "│ dense_5 (<span style=\"color: #0087ff; text-decoration-color: #0087ff\">Dense</span>)                 │ (<span style=\"color: #00d7ff; text-decoration-color: #00d7ff\">None</span>, <span style=\"color: #00af00; text-decoration-color: #00af00\">10</span>)             │        <span style=\"color: #00af00; text-decoration-color: #00af00\">15,010</span> │\n",
       "└─────────────────────────────────┴────────────────────────┴───────────────┘\n",
       "</pre>\n"
      ],
      "text/plain": [
       "┏━━━━━━━━━━━━━━━━━━━━━━━━━━━━━━━━━┳━━━━━━━━━━━━━━━━━━━━━━━━┳━━━━━━━━━━━━━━━┓\n",
       "┃\u001b[1m \u001b[0m\u001b[1mLayer (type)                   \u001b[0m\u001b[1m \u001b[0m┃\u001b[1m \u001b[0m\u001b[1mOutput Shape          \u001b[0m\u001b[1m \u001b[0m┃\u001b[1m \u001b[0m\u001b[1m      Param #\u001b[0m\u001b[1m \u001b[0m┃\n",
       "┡━━━━━━━━━━━━━━━━━━━━━━━━━━━━━━━━━╇━━━━━━━━━━━━━━━━━━━━━━━━╇━━━━━━━━━━━━━━━┩\n",
       "│ conv2d_20 (\u001b[38;5;33mConv2D\u001b[0m)              │ (\u001b[38;5;45mNone\u001b[0m, \u001b[38;5;34m128\u001b[0m, \u001b[38;5;34m128\u001b[0m, \u001b[38;5;34m32\u001b[0m)   │           \u001b[38;5;34m896\u001b[0m │\n",
       "├─────────────────────────────────┼────────────────────────┼───────────────┤\n",
       "│ conv2d_21 (\u001b[38;5;33mConv2D\u001b[0m)              │ (\u001b[38;5;45mNone\u001b[0m, \u001b[38;5;34m126\u001b[0m, \u001b[38;5;34m126\u001b[0m, \u001b[38;5;34m32\u001b[0m)   │         \u001b[38;5;34m9,248\u001b[0m │\n",
       "├─────────────────────────────────┼────────────────────────┼───────────────┤\n",
       "│ max_pooling2d_10 (\u001b[38;5;33mMaxPooling2D\u001b[0m) │ (\u001b[38;5;45mNone\u001b[0m, \u001b[38;5;34m63\u001b[0m, \u001b[38;5;34m63\u001b[0m, \u001b[38;5;34m32\u001b[0m)     │             \u001b[38;5;34m0\u001b[0m │\n",
       "├─────────────────────────────────┼────────────────────────┼───────────────┤\n",
       "│ conv2d_22 (\u001b[38;5;33mConv2D\u001b[0m)              │ (\u001b[38;5;45mNone\u001b[0m, \u001b[38;5;34m63\u001b[0m, \u001b[38;5;34m63\u001b[0m, \u001b[38;5;34m64\u001b[0m)     │        \u001b[38;5;34m18,496\u001b[0m │\n",
       "├─────────────────────────────────┼────────────────────────┼───────────────┤\n",
       "│ conv2d_23 (\u001b[38;5;33mConv2D\u001b[0m)              │ (\u001b[38;5;45mNone\u001b[0m, \u001b[38;5;34m61\u001b[0m, \u001b[38;5;34m61\u001b[0m, \u001b[38;5;34m64\u001b[0m)     │        \u001b[38;5;34m36,928\u001b[0m │\n",
       "├─────────────────────────────────┼────────────────────────┼───────────────┤\n",
       "│ max_pooling2d_11 (\u001b[38;5;33mMaxPooling2D\u001b[0m) │ (\u001b[38;5;45mNone\u001b[0m, \u001b[38;5;34m30\u001b[0m, \u001b[38;5;34m30\u001b[0m, \u001b[38;5;34m64\u001b[0m)     │             \u001b[38;5;34m0\u001b[0m │\n",
       "├─────────────────────────────────┼────────────────────────┼───────────────┤\n",
       "│ conv2d_24 (\u001b[38;5;33mConv2D\u001b[0m)              │ (\u001b[38;5;45mNone\u001b[0m, \u001b[38;5;34m30\u001b[0m, \u001b[38;5;34m30\u001b[0m, \u001b[38;5;34m128\u001b[0m)    │        \u001b[38;5;34m73,856\u001b[0m │\n",
       "├─────────────────────────────────┼────────────────────────┼───────────────┤\n",
       "│ conv2d_25 (\u001b[38;5;33mConv2D\u001b[0m)              │ (\u001b[38;5;45mNone\u001b[0m, \u001b[38;5;34m28\u001b[0m, \u001b[38;5;34m28\u001b[0m, \u001b[38;5;34m128\u001b[0m)    │       \u001b[38;5;34m147,584\u001b[0m │\n",
       "├─────────────────────────────────┼────────────────────────┼───────────────┤\n",
       "│ max_pooling2d_12 (\u001b[38;5;33mMaxPooling2D\u001b[0m) │ (\u001b[38;5;45mNone\u001b[0m, \u001b[38;5;34m14\u001b[0m, \u001b[38;5;34m14\u001b[0m, \u001b[38;5;34m128\u001b[0m)    │             \u001b[38;5;34m0\u001b[0m │\n",
       "├─────────────────────────────────┼────────────────────────┼───────────────┤\n",
       "│ conv2d_26 (\u001b[38;5;33mConv2D\u001b[0m)              │ (\u001b[38;5;45mNone\u001b[0m, \u001b[38;5;34m14\u001b[0m, \u001b[38;5;34m14\u001b[0m, \u001b[38;5;34m256\u001b[0m)    │       \u001b[38;5;34m295,168\u001b[0m │\n",
       "├─────────────────────────────────┼────────────────────────┼───────────────┤\n",
       "│ conv2d_27 (\u001b[38;5;33mConv2D\u001b[0m)              │ (\u001b[38;5;45mNone\u001b[0m, \u001b[38;5;34m12\u001b[0m, \u001b[38;5;34m12\u001b[0m, \u001b[38;5;34m256\u001b[0m)    │       \u001b[38;5;34m590,080\u001b[0m │\n",
       "├─────────────────────────────────┼────────────────────────┼───────────────┤\n",
       "│ max_pooling2d_13 (\u001b[38;5;33mMaxPooling2D\u001b[0m) │ (\u001b[38;5;45mNone\u001b[0m, \u001b[38;5;34m6\u001b[0m, \u001b[38;5;34m6\u001b[0m, \u001b[38;5;34m256\u001b[0m)      │             \u001b[38;5;34m0\u001b[0m │\n",
       "├─────────────────────────────────┼────────────────────────┼───────────────┤\n",
       "│ conv2d_28 (\u001b[38;5;33mConv2D\u001b[0m)              │ (\u001b[38;5;45mNone\u001b[0m, \u001b[38;5;34m6\u001b[0m, \u001b[38;5;34m6\u001b[0m, \u001b[38;5;34m512\u001b[0m)      │     \u001b[38;5;34m1,180,160\u001b[0m │\n",
       "├─────────────────────────────────┼────────────────────────┼───────────────┤\n",
       "│ conv2d_29 (\u001b[38;5;33mConv2D\u001b[0m)              │ (\u001b[38;5;45mNone\u001b[0m, \u001b[38;5;34m4\u001b[0m, \u001b[38;5;34m4\u001b[0m, \u001b[38;5;34m512\u001b[0m)      │     \u001b[38;5;34m2,359,808\u001b[0m │\n",
       "├─────────────────────────────────┼────────────────────────┼───────────────┤\n",
       "│ max_pooling2d_14 (\u001b[38;5;33mMaxPooling2D\u001b[0m) │ (\u001b[38;5;45mNone\u001b[0m, \u001b[38;5;34m2\u001b[0m, \u001b[38;5;34m2\u001b[0m, \u001b[38;5;34m512\u001b[0m)      │             \u001b[38;5;34m0\u001b[0m │\n",
       "├─────────────────────────────────┼────────────────────────┼───────────────┤\n",
       "│ dropout_4 (\u001b[38;5;33mDropout\u001b[0m)             │ (\u001b[38;5;45mNone\u001b[0m, \u001b[38;5;34m2\u001b[0m, \u001b[38;5;34m2\u001b[0m, \u001b[38;5;34m512\u001b[0m)      │             \u001b[38;5;34m0\u001b[0m │\n",
       "├─────────────────────────────────┼────────────────────────┼───────────────┤\n",
       "│ flatten_2 (\u001b[38;5;33mFlatten\u001b[0m)             │ (\u001b[38;5;45mNone\u001b[0m, \u001b[38;5;34m2048\u001b[0m)           │             \u001b[38;5;34m0\u001b[0m │\n",
       "├─────────────────────────────────┼────────────────────────┼───────────────┤\n",
       "│ dense_4 (\u001b[38;5;33mDense\u001b[0m)                 │ (\u001b[38;5;45mNone\u001b[0m, \u001b[38;5;34m1500\u001b[0m)           │     \u001b[38;5;34m3,073,500\u001b[0m │\n",
       "├─────────────────────────────────┼────────────────────────┼───────────────┤\n",
       "│ dropout_5 (\u001b[38;5;33mDropout\u001b[0m)             │ (\u001b[38;5;45mNone\u001b[0m, \u001b[38;5;34m1500\u001b[0m)           │             \u001b[38;5;34m0\u001b[0m │\n",
       "├─────────────────────────────────┼────────────────────────┼───────────────┤\n",
       "│ dense_5 (\u001b[38;5;33mDense\u001b[0m)                 │ (\u001b[38;5;45mNone\u001b[0m, \u001b[38;5;34m10\u001b[0m)             │        \u001b[38;5;34m15,010\u001b[0m │\n",
       "└─────────────────────────────────┴────────────────────────┴───────────────┘\n"
      ]
     },
     "metadata": {},
     "output_type": "display_data"
    },
    {
     "data": {
      "text/html": [
       "<pre style=\"white-space:pre;overflow-x:auto;line-height:normal;font-family:Menlo,'DejaVu Sans Mono',consolas,'Courier New',monospace\"><span style=\"font-weight: bold\"> Total params: </span><span style=\"color: #00af00; text-decoration-color: #00af00\">7,800,734</span> (29.76 MB)\n",
       "</pre>\n"
      ],
      "text/plain": [
       "\u001b[1m Total params: \u001b[0m\u001b[38;5;34m7,800,734\u001b[0m (29.76 MB)\n"
      ]
     },
     "metadata": {},
     "output_type": "display_data"
    },
    {
     "data": {
      "text/html": [
       "<pre style=\"white-space:pre;overflow-x:auto;line-height:normal;font-family:Menlo,'DejaVu Sans Mono',consolas,'Courier New',monospace\"><span style=\"font-weight: bold\"> Trainable params: </span><span style=\"color: #00af00; text-decoration-color: #00af00\">7,800,734</span> (29.76 MB)\n",
       "</pre>\n"
      ],
      "text/plain": [
       "\u001b[1m Trainable params: \u001b[0m\u001b[38;5;34m7,800,734\u001b[0m (29.76 MB)\n"
      ]
     },
     "metadata": {},
     "output_type": "display_data"
    },
    {
     "data": {
      "text/html": [
       "<pre style=\"white-space:pre;overflow-x:auto;line-height:normal;font-family:Menlo,'DejaVu Sans Mono',consolas,'Courier New',monospace\"><span style=\"font-weight: bold\"> Non-trainable params: </span><span style=\"color: #00af00; text-decoration-color: #00af00\">0</span> (0.00 B)\n",
       "</pre>\n"
      ],
      "text/plain": [
       "\u001b[1m Non-trainable params: \u001b[0m\u001b[38;5;34m0\u001b[0m (0.00 B)\n"
      ]
     },
     "metadata": {},
     "output_type": "display_data"
    }
   ],
   "source": [
    "cnn.summary()"
   ]
  },
  {
   "cell_type": "code",
   "execution_count": 30,
   "id": "339997af-3aa5-4bd7-a692-e734ac666d7c",
   "metadata": {
    "execution": {
     "iopub.execute_input": "2024-12-18T16:40:43.315358Z",
     "iopub.status.busy": "2024-12-18T16:40:43.315010Z",
     "iopub.status.idle": "2024-12-18T16:43:24.510807Z",
     "shell.execute_reply": "2024-12-18T16:43:24.509854Z",
     "shell.execute_reply.started": "2024-12-18T16:40:43.315325Z"
    },
    "trusted": true
   },
   "outputs": [
    {
     "name": "stdout",
     "output_type": "stream",
     "text": [
      "Epoch 1/10\n",
      "\u001b[1m313/313\u001b[0m \u001b[32m━━━━━━━━━━━━━━━━━━━━\u001b[0m\u001b[37m\u001b[0m \u001b[1m30s\u001b[0m 75ms/step - accuracy: 0.3172 - loss: 1.8799 - val_accuracy: 0.6710 - val_loss: 0.9422\n",
      "Epoch 2/10\n",
      "\u001b[1m313/313\u001b[0m \u001b[32m━━━━━━━━━━━━━━━━━━━━\u001b[0m\u001b[37m\u001b[0m \u001b[1m16s\u001b[0m 52ms/step - accuracy: 0.7546 - loss: 0.7120 - val_accuracy: 0.7850 - val_loss: 0.5931\n",
      "Epoch 3/10\n",
      "\u001b[1m313/313\u001b[0m \u001b[32m━━━━━━━━━━━━━━━━━━━━\u001b[0m\u001b[37m\u001b[0m \u001b[1m17s\u001b[0m 53ms/step - accuracy: 0.8204 - loss: 0.5025 - val_accuracy: 0.8440 - val_loss: 0.4681\n",
      "Epoch 4/10\n",
      "\u001b[1m313/313\u001b[0m \u001b[32m━━━━━━━━━━━━━━━━━━━━\u001b[0m\u001b[37m\u001b[0m \u001b[1m16s\u001b[0m 52ms/step - accuracy: 0.8640 - loss: 0.3761 - val_accuracy: 0.8630 - val_loss: 0.3970\n",
      "Epoch 5/10\n",
      "\u001b[1m313/313\u001b[0m \u001b[32m━━━━━━━━━━━━━━━━━━━━\u001b[0m\u001b[37m\u001b[0m \u001b[1m16s\u001b[0m 52ms/step - accuracy: 0.9000 - loss: 0.2930 - val_accuracy: 0.8950 - val_loss: 0.3164\n",
      "Epoch 6/10\n",
      "\u001b[1m313/313\u001b[0m \u001b[32m━━━━━━━━━━━━━━━━━━━━\u001b[0m\u001b[37m\u001b[0m \u001b[1m16s\u001b[0m 52ms/step - accuracy: 0.9234 - loss: 0.2262 - val_accuracy: 0.8990 - val_loss: 0.3146\n",
      "Epoch 7/10\n",
      "\u001b[1m313/313\u001b[0m \u001b[32m━━━━━━━━━━━━━━━━━━━━\u001b[0m\u001b[37m\u001b[0m \u001b[1m16s\u001b[0m 52ms/step - accuracy: 0.9366 - loss: 0.1835 - val_accuracy: 0.9050 - val_loss: 0.3286\n",
      "Epoch 8/10\n",
      "\u001b[1m313/313\u001b[0m \u001b[32m━━━━━━━━━━━━━━━━━━━━\u001b[0m\u001b[37m\u001b[0m \u001b[1m16s\u001b[0m 53ms/step - accuracy: 0.9544 - loss: 0.1395 - val_accuracy: 0.8980 - val_loss: 0.3472\n",
      "Epoch 9/10\n",
      "\u001b[1m313/313\u001b[0m \u001b[32m━━━━━━━━━━━━━━━━━━━━\u001b[0m\u001b[37m\u001b[0m \u001b[1m16s\u001b[0m 52ms/step - accuracy: 0.9550 - loss: 0.1278 - val_accuracy: 0.8850 - val_loss: 0.3706\n"
     ]
    }
   ],
   "source": [
    "# -------------------- Training --------------------\n",
    "# Add EarlyStopping callback\n",
    "early_stopping = EarlyStopping(monitor='val_loss', patience=3, restore_best_weights=True)\n",
    "\n",
    "tomato_history = cnn.fit(\n",
    "    x=training_set,\n",
    "    validation_data=validation_set,\n",
    "    epochs=10,\n",
    "    callbacks=[early_stopping]\n",
    ")\n",
    "\n",
    "#training_history = cnn.fit(x=training_set, validation_data=validation_set, epochs=10)"
   ]
  },
  {
   "cell_type": "code",
   "execution_count": 31,
   "id": "15520f58-6de6-4bf4-8805-7aaddb4c6f20",
   "metadata": {
    "execution": {
     "iopub.execute_input": "2024-12-18T16:46:57.663677Z",
     "iopub.status.busy": "2024-12-18T16:46:57.663044Z",
     "iopub.status.idle": "2024-12-18T16:47:03.249884Z",
     "shell.execute_reply": "2024-12-18T16:47:03.248932Z",
     "shell.execute_reply.started": "2024-12-18T16:46:57.663642Z"
    },
    "trusted": true
   },
   "outputs": [
    {
     "name": "stdout",
     "output_type": "stream",
     "text": [
      "\u001b[1m313/313\u001b[0m \u001b[32m━━━━━━━━━━━━━━━━━━━━\u001b[0m\u001b[37m\u001b[0m \u001b[1m6s\u001b[0m 18ms/step - accuracy: 0.9613 - loss: 0.1139\n",
      "Training accuracy: 0.9652000069618225\n"
     ]
    }
   ],
   "source": [
    "train_loss, train_acc = cnn.evaluate(training_set)\n",
    "print('Training accuracy:', train_acc)"
   ]
  },
  {
   "cell_type": "code",
   "execution_count": 32,
   "id": "2a515a43-ae7f-4fb8-94fa-95297876eb25",
   "metadata": {
    "execution": {
     "iopub.execute_input": "2024-12-18T16:47:15.904654Z",
     "iopub.status.busy": "2024-12-18T16:47:15.904254Z",
     "iopub.status.idle": "2024-12-18T16:47:16.495487Z",
     "shell.execute_reply": "2024-12-18T16:47:16.494580Z",
     "shell.execute_reply.started": "2024-12-18T16:47:15.904618Z"
    },
    "trusted": true
   },
   "outputs": [
    {
     "name": "stdout",
     "output_type": "stream",
     "text": [
      "\u001b[1m32/32\u001b[0m \u001b[32m━━━━━━━━━━━━━━━━━━━━\u001b[0m\u001b[37m\u001b[0m \u001b[1m1s\u001b[0m 17ms/step - accuracy: 0.8975 - loss: 0.3229\n",
      "Validation accuracy: 0.8989999890327454\n"
     ]
    }
   ],
   "source": [
    "val_loss, val_acc = cnn.evaluate(validation_set)\n",
    "print('Validation accuracy:', val_acc)"
   ]
  },
  {
   "cell_type": "code",
   "execution_count": null,
   "id": "b8a8956f-6b88-4c3e-a4b6-dfb522523a1f",
   "metadata": {
    "execution": {
     "iopub.execute_input": "2024-12-18T16:47:23.591086Z",
     "iopub.status.busy": "2024-12-18T16:47:23.590738Z",
     "iopub.status.idle": "2024-12-18T16:47:23.596114Z",
     "shell.execute_reply": "2024-12-18T16:47:23.595099Z",
     "shell.execute_reply.started": "2024-12-18T16:47:23.591055Z"
    },
    "trusted": true
   },
   "outputs": [
    {
     "ename": "",
     "evalue": "",
     "output_type": "error",
     "traceback": [
      "\u001b[1;31mRunning cells with 'Python 3.11.9' requires the ipykernel package.\n",
      "\u001b[1;31mRun the following command to install 'ipykernel' into the Python environment. \n",
      "\u001b[1;31mCommand: 'c:/Users/deban/AppData/Local/Programs/Python/Python311/python.exe -m pip install ipykernel -U --user --force-reinstall'"
     ]
    }
   ],
   "source": [
    "# Get class names\n",
    "class_names = training_set.class_names\n",
    "n_classes = len(class_names)\n",
    "print(f\"Number of Classes: {n_classes}, Class Names: {class_names}\")\n"
   ]
  },
  {
   "cell_type": "code",
   "execution_count": 34,
   "id": "b27ac854-2df1-40f3-803e-038a2ef804ca",
   "metadata": {
    "execution": {
     "iopub.execute_input": "2024-12-18T16:47:30.390923Z",
     "iopub.status.busy": "2024-12-18T16:47:30.390209Z",
     "iopub.status.idle": "2024-12-18T16:47:30.762715Z",
     "shell.execute_reply": "2024-12-18T16:47:30.761922Z",
     "shell.execute_reply.started": "2024-12-18T16:47:30.390888Z"
    },
    "trusted": true
   },
   "outputs": [],
   "source": [
    "cnn.save('/kaggle/working/tomato_model_3.keras')"
   ]
  },
  {
   "cell_type": "code",
   "execution_count": 35,
   "id": "388aff06-084e-40f8-a602-37198bbafdb7",
   "metadata": {
    "execution": {
     "iopub.execute_input": "2024-12-18T16:47:34.200554Z",
     "iopub.status.busy": "2024-12-18T16:47:34.200165Z",
     "iopub.status.idle": "2024-12-18T16:47:34.206774Z",
     "shell.execute_reply": "2024-12-18T16:47:34.205850Z",
     "shell.execute_reply.started": "2024-12-18T16:47:34.200506Z"
    },
    "trusted": true
   },
   "outputs": [
    {
     "data": {
      "text/plain": [
       "{'accuracy': [0.4925999939441681,\n",
       "  0.7767000198364258,\n",
       "  0.8363999724388123,\n",
       "  0.8733000159263611,\n",
       "  0.9061999917030334,\n",
       "  0.9241999983787537,\n",
       "  0.9440000057220459,\n",
       "  0.9556999802589417,\n",
       "  0.9570000171661377],\n",
       " 'loss': [1.4120761156082153,\n",
       "  0.6438409090042114,\n",
       "  0.46005508303642273,\n",
       "  0.35917818546295166,\n",
       "  0.2738149166107178,\n",
       "  0.22782394289970398,\n",
       "  0.16465674340724945,\n",
       "  0.13645707070827484,\n",
       "  0.12099036574363708],\n",
       " 'val_accuracy': [0.6710000038146973,\n",
       "  0.7850000262260437,\n",
       "  0.843999981880188,\n",
       "  0.8629999756813049,\n",
       "  0.8949999809265137,\n",
       "  0.8989999890327454,\n",
       "  0.9049999713897705,\n",
       "  0.8980000019073486,\n",
       "  0.8849999904632568],\n",
       " 'val_loss': [0.9422121047973633,\n",
       "  0.5930867195129395,\n",
       "  0.46808233857154846,\n",
       "  0.39696383476257324,\n",
       "  0.31640705466270447,\n",
       "  0.3146141767501831,\n",
       "  0.3286099135875702,\n",
       "  0.34723490476608276,\n",
       "  0.37064364552497864]}"
      ]
     },
     "execution_count": 35,
     "metadata": {},
     "output_type": "execute_result"
    }
   ],
   "source": [
    "tomato_history.history #Return Dictionary of history"
   ]
  },
  {
   "cell_type": "code",
   "execution_count": 43,
   "id": "31720b04-fd82-45d6-b622-722c42cdb463",
   "metadata": {
    "execution": {
     "iopub.execute_input": "2024-12-18T13:53:52.030103Z",
     "iopub.status.busy": "2024-12-18T13:53:52.029447Z",
     "iopub.status.idle": "2024-12-18T13:53:52.034859Z",
     "shell.execute_reply": "2024-12-18T13:53:52.033676Z",
     "shell.execute_reply.started": "2024-12-18T13:53:52.030070Z"
    },
    "trusted": true
   },
   "outputs": [],
   "source": [
    "import json\n",
    "with open('/kaggle/working/tomato_training_hist_3.json','w') as f:\n",
    "  json.dump(tomato_history.history,f)"
   ]
  },
  {
   "cell_type": "code",
   "execution_count": 36,
   "id": "e2e763f0-4f54-4991-8208-4d323d42f8a7",
   "metadata": {
    "execution": {
     "iopub.execute_input": "2024-12-18T16:47:39.064336Z",
     "iopub.status.busy": "2024-12-18T16:47:39.063997Z",
     "iopub.status.idle": "2024-12-18T16:47:39.068919Z",
     "shell.execute_reply": "2024-12-18T16:47:39.068082Z",
     "shell.execute_reply.started": "2024-12-18T16:47:39.064306Z"
    },
    "trusted": true
   },
   "outputs": [
    {
     "name": "stdout",
     "output_type": "stream",
     "text": [
      "dict_keys(['accuracy', 'loss', 'val_accuracy', 'val_loss'])\n"
     ]
    }
   ],
   "source": [
    "print(tomato_history.history.keys()) "
   ]
  },
  {
   "cell_type": "code",
   "execution_count": 37,
   "id": "5a3da8e3-c8eb-4f53-8369-dc0347409355",
   "metadata": {
    "execution": {
     "iopub.execute_input": "2024-12-18T16:47:55.768052Z",
     "iopub.status.busy": "2024-12-18T16:47:55.767372Z",
     "iopub.status.idle": "2024-12-18T16:47:56.122314Z",
     "shell.execute_reply": "2024-12-18T16:47:56.121542Z",
     "shell.execute_reply.started": "2024-12-18T16:47:55.768017Z"
    },
    "trusted": true
   },
   "outputs": [
    {
     "data": {
      "image/png": "[encoded data removed]",
      "text/plain": [
       "<Figure size 640x480 with 1 Axes>"
      ]
     },
     "metadata": {},
     "output_type": "display_data"
    }
   ],
   "source": [
    "epochs = range(1, 10)  # Now we have 10 epochs\n",
    "\n",
    "# Plotting training and validation accuracy\n",
    "plt.plot(epochs, tomato_history.history['accuracy'], color='red', label='Training Accuracy')\n",
    "plt.plot(epochs, tomato_history.history['val_accuracy'], color='blue', label='Validation Accuracy')\n",
    "\n",
    "# Labels and Title\n",
    "plt.xlabel('No. of Epochs')\n",
    "plt.ylabel('Accuracy')\n",
    "plt.title('Visualization of Accuracy Results')\n",
    "\n",
    "# Adding a legend\n",
    "plt.legend()\n",
    "\n",
    "# Show the plot\n",
    "plt.show()\n"
   ]
  },
  {
   "cell_type": "code",
   "execution_count": 39,
   "id": "56a85bca-7f09-432e-aaca-2371c2fcef6b",
   "metadata": {
    "execution": {
     "iopub.execute_input": "2024-12-18T16:48:15.004015Z",
     "iopub.status.busy": "2024-12-18T16:48:15.003670Z",
     "iopub.status.idle": "2024-12-18T16:48:15.007738Z",
     "shell.execute_reply": "2024-12-18T16:48:15.006920Z",
     "shell.execute_reply.started": "2024-12-18T16:48:15.003985Z"
    },
    "trusted": true
   },
   "outputs": [],
   "source": [
    "class_name = validation_set.class_names"
   ]
  },
  {
   "cell_type": "code",
   "execution_count": 119,
   "id": "e42328bb-c8f0-4197-807f-b3aa8d268cac",
   "metadata": {
    "execution": {
     "iopub.execute_input": "2024-12-17T20:12:01.957749Z",
     "iopub.status.busy": "2024-12-17T20:12:01.957435Z",
     "iopub.status.idle": "2024-12-17T20:12:02.130181Z",
     "shell.execute_reply": "2024-12-17T20:12:02.129461Z",
     "shell.execute_reply.started": "2024-12-17T20:12:01.957722Z"
    },
    "trusted": true
   },
   "outputs": [],
   "source": [
    "# # Define your augmentation layers\n",
    "# test_datagen = tf.keras.Sequential([\n",
    "#     tf.keras.layers.Rescaling(1./255),  # Rescaling pixel values to [0, 1]\n",
    "#     tf.keras.layers.RandomFlip(\"horizontal\"),  # Random horizontal flip\n",
    "#     tf.keras.layers.RandomRotation(0.2),  # Random rotation\n",
    "#     tf.keras.layers.RandomZoom(0.2),  # Random zoom\n",
    "# ])\n",
    "\n",
    "# # Apply the augmentation to the test dataset\n",
    "# augmented_test_set = test_dataset.map(lambda x, y: (test_datagen(x), y))\n",
    "\n",
    "# # Resize images to the desired size and adjust batch size\n",
    "# augmented_test_set = augmented_test_set.map(lambda x, y: (tf.image.resize(x, (128, 128)), y))\n",
    "\n",
    "# # Set batch size to 1\n",
    "# augmented_test_set = augmented_test_set.batch(1, drop_remainder=False)\n",
    "\n",
    "# # Ensure the test set is in the correct shape (no extra dimension)\n",
    "# augmented_test_set = augmented_test_set.unbatch()  # This flattens the batch dimension\n"
   ]
  },
  {
   "cell_type": "code",
   "execution_count": 41,
   "id": "320eaa28-d719-4075-9ee1-9ad9d01c013b",
   "metadata": {
    "execution": {
     "iopub.execute_input": "2024-12-18T16:54:55.166116Z",
     "iopub.status.busy": "2024-12-18T16:54:55.165372Z",
     "iopub.status.idle": "2024-12-18T16:54:56.856764Z",
     "shell.execute_reply": "2024-12-18T16:54:56.855870Z",
     "shell.execute_reply.started": "2024-12-18T16:54:55.166080Z"
    },
    "trusted": true
   },
   "outputs": [
    {
     "name": "stdout",
     "output_type": "stream",
     "text": [
      "Found 4584 files belonging to 10 classes.\n"
     ]
    }
   ],
   "source": [
    "test_set = tf.keras.utils.image_dataset_from_directory(\n",
    "    '/kaggle/input/test-dataset/test',\n",
    "    labels=\"inferred\",\n",
    "    label_mode=\"categorical\",\n",
    "    class_names=None,\n",
    "    color_mode=\"rgb\",\n",
    "    batch_size=1,\n",
    "    image_size=(128, 128),\n",
    "    shuffle=False,\n",
    "    seed=None,\n",
    "    validation_split=None,\n",
    "    subset=None,\n",
    "    interpolation=\"bilinear\",\n",
    "    follow_links=False,\n",
    "    crop_to_aspect_ratio=False\n",
    ")"
   ]
  },
  {
   "cell_type": "code",
   "execution_count": 42,
   "id": "f4d9cd90-5e9f-4edb-a275-1f1725f29772",
   "metadata": {
    "execution": {
     "iopub.execute_input": "2024-12-18T16:55:12.614072Z",
     "iopub.status.busy": "2024-12-18T16:55:12.613363Z",
     "iopub.status.idle": "2024-12-18T16:55:12.619892Z",
     "shell.execute_reply": "2024-12-18T16:55:12.618897Z",
     "shell.execute_reply.started": "2024-12-18T16:55:12.614035Z"
    },
    "trusted": true
   },
   "outputs": [
    {
     "name": "stdout",
     "output_type": "stream",
     "text": [
      "{'Tomato___Bacterial_spot': 'Tomato___Bacterial_spot', 'Tomato___Early_blight': 'Tomato___Early_blight', 'Tomato___healthy': 'Tomato___Late_blight', 'Tomato___Late_blight': 'Tomato___Leaf_Mold', 'Tomato___Leaf_Mold': 'Tomato___Septoria_leaf_spot', 'Tomato___Septoria_leaf_spot': 'Tomato___Spider_mites Two-spotted_spider_mite', 'Tomato___Spider_mites Two-spotted_spider_mite': 'Tomato___Target_Spot', 'Tomato___Target_Spot': 'Tomato___Tomato_Yellow_Leaf_Curl_Virus', 'Tomato___Tomato_mosaic_virus': 'Tomato___Tomato_mosaic_virus', 'Tomato___Tomato_Yellow_Leaf_Curl_Virus': 'Tomato___healthy'}\n"
     ]
    }
   ],
   "source": [
    "# CLASS MAPPING\n",
    "# Assuming 'model_class_labels' is the class order from training and 'test_class_labels' is the test directory order\n",
    "model_class_labels = ['Tomato___Bacterial_spot', 'Tomato___Early_blight', 'Tomato___Late_blight', 'Tomato___Leaf_Mold', \n",
    "                      'Tomato___Septoria_leaf_spot', 'Tomato___Spider_mites Two-spotted_spider_mite', \n",
    "                      'Tomato___Target_Spot', 'Tomato___Tomato_Yellow_Leaf_Curl_Virus', \n",
    "                      'Tomato___Tomato_mosaic_virus', 'Tomato___healthy']\n",
    "\n",
    "test_class_labels = ['Tomato___Bacterial_spot', 'Tomato___Early_blight', 'Tomato___healthy', 'Tomato___Late_blight', \n",
    "                     'Tomato___Leaf_Mold', 'Tomato___Septoria_leaf_spot', 'Tomato___Spider_mites Two-spotted_spider_mite', \n",
    "                     'Tomato___Target_Spot', 'Tomato___Tomato_mosaic_virus', 'Tomato___Tomato_Yellow_Leaf_Curl_Virus']\n",
    "\n",
    "# Create a mapping from test class labels to model class labels\n",
    "class_mapping = {test_class_labels[i]: model_class_labels[i] for i in range(len(test_class_labels))}\n",
    "print(class_mapping)"
   ]
  },
  {
   "cell_type": "code",
   "execution_count": 46,
   "id": "95f03731-1a02-4912-941f-60fe3c4fe916",
   "metadata": {
    "execution": {
     "iopub.execute_input": "2024-12-18T16:59:12.826203Z",
     "iopub.status.busy": "2024-12-18T16:59:12.825859Z",
     "iopub.status.idle": "2024-12-18T16:59:24.320763Z",
     "shell.execute_reply": "2024-12-18T16:59:24.319969Z",
     "shell.execute_reply.started": "2024-12-18T16:59:12.826172Z"
    },
    "trusted": true
   },
   "outputs": [
    {
     "name": "stdout",
     "output_type": "stream",
     "text": [
      "\u001b[1m4584/4584\u001b[0m \u001b[32m━━━━━━━━━━━━━━━━━━━━\u001b[0m\u001b[37m\u001b[0m \u001b[1m8s\u001b[0m 2ms/step\n"
     ]
    }
   ],
   "source": [
    "# y_pred = cnn.predict(test_set)\n",
    "# predicted_categories = tf.argmax(y_pred, axis=1)\n",
    "\n",
    "# PREDICTION\n",
    "# Predicting on the test set\n",
    "y_pred = cnn.predict(test_set)\n",
    "\n",
    "# Getting the predicted class index (for categorical prediction)\n",
    "predicted_indices = tf.argmax(y_pred, axis=1)\n",
    "\n",
    "# Mapping the predicted indices to class labels using the class_mapping\n",
    "predicted_class_labels = [model_class_labels[idx] for idx in predicted_indices]\n",
    "\n",
    "# Show the predicted class labels\n",
    "#print(\"Predicted Class Labels: \", predicted_class_labels)"
   ]
  },
  {
   "cell_type": "code",
   "execution_count": 47,
   "id": "38d0847d-0ad9-4616-ac3b-a7e8af83a7a9",
   "metadata": {
    "execution": {
     "iopub.execute_input": "2024-12-18T17:00:42.106704Z",
     "iopub.status.busy": "2024-12-18T17:00:42.105960Z",
     "iopub.status.idle": "2024-12-18T17:00:44.580031Z",
     "shell.execute_reply": "2024-12-18T17:00:44.579302Z",
     "shell.execute_reply.started": "2024-12-18T17:00:42.106667Z"
    },
    "trusted": true
   },
   "outputs": [],
   "source": [
    "true_categories = tf.concat([y for x, y in test_set], axis=0)\n",
    "Y_true = tf.argmax(true_categories, axis=1)"
   ]
  },
  {
   "cell_type": "code",
   "execution_count": 48,
   "id": "d69819ed-5d9d-4186-abc1-377ff759e2a2",
   "metadata": {
    "execution": {
     "iopub.execute_input": "2024-12-18T17:00:50.407004Z",
     "iopub.status.busy": "2024-12-18T17:00:50.406655Z",
     "iopub.status.idle": "2024-12-18T17:00:50.413700Z",
     "shell.execute_reply": "2024-12-18T17:00:50.412836Z",
     "shell.execute_reply.started": "2024-12-18T17:00:50.406974Z"
    },
    "trusted": true
   },
   "outputs": [
    {
     "data": {
      "text/plain": [
       "<tf.Tensor: shape=(4584,), dtype=int64, numpy=array([0, 0, 0, ..., 9, 9, 9])>"
      ]
     },
     "execution_count": 48,
     "metadata": {},
     "output_type": "execute_result"
    }
   ],
   "source": [
    "Y_true"
   ]
  },
  {
   "cell_type": "code",
   "execution_count": 50,
   "id": "a1704b2d-05ad-4171-ac82-6e79bac027ec",
   "metadata": {
    "execution": {
     "iopub.execute_input": "2024-12-18T17:01:04.553144Z",
     "iopub.status.busy": "2024-12-18T17:01:04.552836Z",
     "iopub.status.idle": "2024-12-18T17:01:04.559425Z",
     "shell.execute_reply": "2024-12-18T17:01:04.558585Z",
     "shell.execute_reply.started": "2024-12-18T17:01:04.553118Z"
    },
    "trusted": true
   },
   "outputs": [
    {
     "data": {
      "text/plain": [
       "<tf.Tensor: shape=(4584,), dtype=int64, numpy=array([0, 0, 0, ..., 9, 9, 9])>"
      ]
     },
     "execution_count": 50,
     "metadata": {},
     "output_type": "execute_result"
    }
   ],
   "source": [
    "predicted_indices"
   ]
  },
  {
   "cell_type": "code",
   "execution_count": 51,
   "id": "2bf2fdd4-06ae-47af-bf2a-63ef36b08658",
   "metadata": {
    "execution": {
     "iopub.execute_input": "2024-12-18T17:01:26.093840Z",
     "iopub.status.busy": "2024-12-18T17:01:26.093456Z",
     "iopub.status.idle": "2024-12-18T17:01:26.886107Z",
     "shell.execute_reply": "2024-12-18T17:01:26.885333Z",
     "shell.execute_reply.started": "2024-12-18T17:01:26.093809Z"
    },
    "trusted": true
   },
   "outputs": [],
   "source": [
    "from sklearn.metrics import confusion_matrix,classification_report\n",
    "cm = confusion_matrix(Y_true,predicted_indices)"
   ]
  },
  {
   "cell_type": "code",
   "execution_count": 52,
   "id": "09e1fa49-79f1-48a6-9a82-31845c9f4c67",
   "metadata": {
    "execution": {
     "iopub.execute_input": "2024-12-18T17:01:39.732698Z",
     "iopub.status.busy": "2024-12-18T17:01:39.731905Z",
     "iopub.status.idle": "2024-12-18T17:01:39.751905Z",
     "shell.execute_reply": "2024-12-18T17:01:39.750957Z",
     "shell.execute_reply.started": "2024-12-18T17:01:39.732654Z"
    },
    "trusted": true
   },
   "outputs": [
    {
     "name": "stdout",
     "output_type": "stream",
     "text": [
      "                                               precision    recall  f1-score   support\n",
      "\n",
      "                      Tomato___Bacterial_spot       0.92      0.98      0.95       425\n",
      "                        Tomato___Early_blight       0.66      0.88      0.76       480\n",
      "                         Tomato___Late_blight       0.87      0.92      0.89       462\n",
      "                           Tomato___Leaf_Mold       0.91      0.91      0.91       470\n",
      "                  Tomato___Septoria_leaf_spot       0.86      0.87      0.86       436\n",
      "Tomato___Spider_mites Two-spotted_spider_mite       0.93      0.86      0.89       435\n",
      "                         Tomato___Target_Spot       0.92      0.64      0.76       457\n",
      "       Tomato___Tomato_Yellow_Leaf_Curl_Virus       0.93      0.99      0.96       490\n",
      "                 Tomato___Tomato_mosaic_virus       0.92      0.85      0.88       448\n",
      "                             Tomato___healthy       0.98      0.90      0.94       481\n",
      "\n",
      "                                     accuracy                           0.88      4584\n",
      "                                    macro avg       0.89      0.88      0.88      4584\n",
      "                                 weighted avg       0.89      0.88      0.88      4584\n",
      "\n"
     ]
    }
   ],
   "source": [
    "# Precision Recall Fscore\n",
    "print(classification_report(Y_true,predicted_indices,target_names=class_name))"
   ]
  },
  {
   "cell_type": "code",
   "execution_count": 54,
   "id": "a0d5cb1b-f258-4d57-a2e2-0d814c2df919",
   "metadata": {
    "execution": {
     "iopub.execute_input": "2024-12-18T17:02:22.249101Z",
     "iopub.status.busy": "2024-12-18T17:02:22.248477Z",
     "iopub.status.idle": "2024-12-18T17:02:22.688976Z",
     "shell.execute_reply": "2024-12-18T17:02:22.688130Z",
     "shell.execute_reply.started": "2024-12-18T17:02:22.249065Z"
    },
    "trusted": true
   },
   "outputs": [
    {
     "data": {
      "image/png": "[encoded data removed]",
      "text/plain": [
       "<Figure size 2000x1000 with 2 Axes>"
      ]
     },
     "metadata": {},
     "output_type": "display_data"
    }
   ],
   "source": [
    "import matplotlib.pyplot as plt\n",
    "import seaborn as sns\n",
    "\n",
    "plt.figure(figsize=(20, 10))\n",
    "sns.heatmap(cm,annot=True,annot_kws={\"size\": 10})\n",
    "\n",
    "plt.xlabel('Predicted Class',fontsize = 20)\n",
    "plt.ylabel('Actual Class',fontsize = 20)\n",
    "plt.title('Tomato Disease Prediction Confusion Matrix',fontsize = 25)\n",
    "plt.show()"
   ]
  },
  {
   "cell_type": "code",
   "execution_count": 55,
   "id": "0e7ff0f3-7bcb-4167-be08-fe545e7440d0",
   "metadata": {
    "execution": {
     "iopub.execute_input": "2024-12-18T17:02:33.966997Z",
     "iopub.status.busy": "2024-12-18T17:02:33.966118Z",
     "iopub.status.idle": "2024-12-18T17:02:34.172779Z",
     "shell.execute_reply": "2024-12-18T17:02:34.171815Z",
     "shell.execute_reply.started": "2024-12-18T17:02:33.966959Z"
    },
    "trusted": true
   },
   "outputs": [],
   "source": [
    "# Save the trained model\n",
    "cnn.save('/kaggle/working/tomato_trained_model_3.h5')"
   ]
  }
 ],
 "metadata": {
  "kaggle": {
   "accelerator": "nvidiaTeslaT4",
   "dataSources": [
    {
     "datasetId": 619181,
     "sourceId": 1105687,
     "sourceType": "datasetVersion"
    },
    {
     "datasetId": 4613749,
     "sourceId": 7864514,
     "sourceType": "datasetVersion"
    },
    {
     "datasetId": 6331196,
     "sourceId": 10238189,
     "sourceType": "datasetVersion"
    }
   ],
   "isGpuEnabled": true,
   "isInternetEnabled": true,
   "language": "python",
   "sourceType": "notebook"
  },
  "kernelspec": {
   "display_name": "Python 3",
   "language": "python",
   "name": "python3"
  },
  "language_info": {
   "codemirror_mode": {
    "name": "ipython",
    "version": 3
   },
   "file_extension": ".py",
   "mimetype": "text/x-python",
   "name": "python",
   "nbconvert_exporter": "python",
   "pygments_lexer": "ipython3",
   "version": "3.11.9"
  }
 },
 "nbformat": 4,
 "nbformat_minor": 5
}
